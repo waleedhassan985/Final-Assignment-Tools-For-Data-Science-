{
 "cells": [
  {
   "cell_type": "markdown",
   "id": "3d327198-4271-4dfd-8807-8daebec6be91",
   "metadata": {},
   "source": [
    "# Data Science Tools and Ecosystem"
   ]
  },
  {
   "cell_type": "markdown",
   "id": "c6b94cb5-1ee9-4fa9-96db-0e7025e9bc88",
   "metadata": {},
   "source": [
    "In this notebook, Data Science Tools and Ecosystem are summarized."
   ]
  },
  {
   "cell_type": "markdown",
   "id": "e407ee70-21a8-4c0e-9ba7-8bcf3672e2a4",
   "metadata": {},
   "source": [
    "**Objectives:**\n",
    "* Python \n",
    "* R\n",
    "* SQL"
   ]
  },
  {
   "cell_type": "markdown",
   "id": "b6a77551-440e-4cbc-8d82-8d5ca4b15e81",
   "metadata": {},
   "source": [
    "Some of the popular languages that Data Scientists use are:\n",
    "1. Python \n",
    "2. R Language\n",
    "3. SQL (Structured Query language )\n",
    "4. Scala \n"
   ]
  },
  {
   "cell_type": "markdown",
   "id": "c4b7ea4e-05df-498e-9bb5-5650542084f3",
   "metadata": {},
   "source": [
    "Some of the commonly used libraries used by Data Scientists include:\n",
    "1. Pandas\n",
    "2. Numpy \n",
    "3. ggplot\n",
    "4. Matplotlib"
   ]
  },
  {
   "cell_type": "markdown",
   "id": "12780007-5e27-4d3b-86d4-551835e1aa85",
   "metadata": {},
   "source": [
    "#### Data Science Tools\n",
    "Jupyter Notebook  \n",
    "RStudio    \n",
    "Jupyter Lab  \n",
    "Spyder \n"
   ]
  },
  {
   "cell_type": "markdown",
   "id": "35eccb2c-9760-414c-878b-5bd9429e5ae4",
   "metadata": {},
   "source": [
    "###  Below are a few examples of evaluating arithmetic expressions in Python"
   ]
  },
  {
   "cell_type": "code",
   "execution_count": 2,
   "id": "5a9d3714-3a20-4c82-a1b7-c0e012c230e7",
   "metadata": {
    "tags": []
   },
   "outputs": [
    {
     "data": {
      "text/plain": [
       "17"
      ]
     },
     "execution_count": 2,
     "metadata": {},
     "output_type": "execute_result"
    }
   ],
   "source": [
    "# This a simple arithmetic expression to mutiply then add integers.\n",
    "(3*4)+5"
   ]
  },
  {
   "cell_type": "code",
   "execution_count": 3,
   "id": "54d7eb4c-b87f-4072-8244-e6e1f88a9470",
   "metadata": {
    "tags": []
   },
   "outputs": [
    {
     "data": {
      "text/plain": [
       "3.3333333333333335"
      ]
     },
     "execution_count": 3,
     "metadata": {},
     "output_type": "execute_result"
    }
   ],
   "source": [
    "# This will convert 200 minutes to hours by diving by 60.\n",
    "(200/60)"
   ]
  },
  {
   "cell_type": "markdown",
   "id": "f813eb98-ae19-416b-b2c0-fa922a7f6a48",
   "metadata": {},
   "source": [
    "## Author\n",
    "Waleed Hassan"
   ]
  }
 ],
 "metadata": {
  "kernelspec": {
   "display_name": "Python",
   "language": "python",
   "name": "conda-env-python-py"
  },
  "language_info": {
   "codemirror_mode": {
    "name": "ipython",
    "version": 3
   },
   "file_extension": ".py",
   "mimetype": "text/x-python",
   "name": "python",
   "nbconvert_exporter": "python",
   "pygments_lexer": "ipython3",
   "version": "3.7.12"
  }
 },
 "nbformat": 4,
 "nbformat_minor": 5
}
